{
 "cells": [
  {
   "cell_type": "markdown",
   "id": "650e5cf7-8c8b-45e6-8b17-abd740011448",
   "metadata": {},
   "source": [
    "# Introdução\n",
    "\n",
    "Esse notebook tem objetivo de entender os princípios de estimações de pontuação de crédito bancário.  O crédito faz parte da vida de muitas pessoas mas para fornecer esse tipo de serviço é necessário entender os riscos envolvidos em emprestimos pessoais e consignados, cartões de credito, financiamento de imóveis e veículos, apesar de todos esses exemplo, pouco se fala sobre como funciona a tomada de decisão por trás do sistema de crédito. \n",
    "\n",
    "> [Credit Scoring Google Scholar](https://scholar.google.com.br/scholar?hl=pt-PT&as_sdt=0%2C5&as_vis=1&q=credit+scoring&btnG=)"
   ]
  },
  {
   "cell_type": "markdown",
   "id": "df70a065-1b62-45a8-8145-8deee448d78c",
   "metadata": {},
   "source": [
    "\n",
    "## Cadeia de crédito\n",
    "\n",
    "<img src='https://raw.githubusercontent.com/ConradBitt/Credit_Scoring/main/images/ciclo_credito.png'  width=50%>\n",
    "\n",
    "Os pilares da cadeia de crédito consiste em ciclo de quatro etapas que fundamentam o funcionamento do sistema, eles são \n",
    "\n",
    "* Prospecção \n",
    "\n",
    "* Concessão \n",
    "\n",
    "* Gestão de Risco \n",
    "\n",
    "* Recuperação \n",
    "\n",
    "\n",
    "Neste notebook vou focar em quais métricas de avaliação são  utilizadas na etapa de **concessão**. \n",
    "\n",
    "Um ponto importante na cadeia de crédito são os grupos de clientes, eles se dividem em dois **poupadores** e **tomadores**. Os poupadores são clientes que reservam suas economias para extrair rendimentos no futuro e os tomadores são clientes que tomam emprestado uma quantia hoje para pagar no futuro. Quem faz a intermediação entre popuadores e tomadores são as instituições financeiras. (*Lembrando que apenas instituições podem fazer essa mediação, pessoas físicas emprestando valores monetarios a troco de juros pode caracterizar o crime de agiotagem.*)"
   ]
  },
  {
   "cell_type": "markdown",
   "id": "a7902a81-11d9-49a9-93ef-f36c1cafd287",
   "metadata": {},
   "source": [
    "## Pedido de crétido \n",
    "\n",
    "<img src='https://raw.githubusercontent.com/ConradBitt/Credit_Scoring/main/images/pedido_credito.png'>\n",
    "\n",
    "O pedido de credito se inicia com o **tomador** indo até uma **instituição financeira** e ela através de um **modelo de decisão** e este modelo irá dizer se o **tomador** terá um credito **aprovado** ou **rerejeitado**. \n",
    "\n",
    "## Credit Scoring\n",
    "\n",
    "O Credit Scoring consiste em analisar a probabilidade (0 ou 1) de um evento ocorrer dado um conjunto de variáveis aleatórias a respeito dos fenômenos envolvidos. Agora pensando na concessão o tipo de evento que se busca estimar é se um tomador de crédito será inadimplente ou não, ou seja, **é um problema de classificação binária**.\n",
    "\n",
    "Basicamente toda análise de concessão de crédito consiste em analisar o risco de uma operação, por parte da instituição financeira, o risco é medido **como a expectativa de receber um montante em um determinado período de tempo não ocorrer**. Esse risco é incluido de forma parcelada através dos juros cobrados ao tomador do credito..\n",
    "\n"
   ]
  },
  {
   "cell_type": "markdown",
   "id": "2a900e6e-0047-4f9a-8f22-c5d24e04bf7e",
   "metadata": {},
   "source": [
    "# Importações de módulos python"
   ]
  },
  {
   "cell_type": "code",
   "execution_count": 2,
   "id": "88ef20a9-6087-4f20-9364-bdf1f25a83b4",
   "metadata": {},
   "outputs": [],
   "source": [
    "import numpy as np \n",
    "import pandas as pd \n",
    "import seaborn as sns \n",
    "import matplotlib as mpl\n",
    "\n",
    "\n",
    "from matplotlib import pyplot as plt"
   ]
  },
  {
   "cell_type": "code",
   "execution_count": 3,
   "id": "76af8a81-be00-4c72-aa17-c64e9650b274",
   "metadata": {},
   "outputs": [
    {
     "name": "stdout",
     "output_type": "stream",
     "text": [
      "~~ Versão Python ~~\n",
      "Python 3.7.9\n",
      "\n",
      "\n",
      "~~ Versões Módulos ~~\n",
      "numpy: 1.20.1\n",
      "pandas: 1.2.4\n",
      "seaborn: 0.11.1\n",
      "matplotlib: 3.3.4\n"
     ]
    }
   ],
   "source": [
    "print('~~ Versão Python ~~')\n",
    "!python --version\n",
    "\n",
    "print('\\n\\n~~ Versões Módulos ~~')\n",
    "\n",
    "print(f'numpy: {np.__version__}')\n",
    "print(f'pandas: {pd.__version__}')\n",
    "print(f'seaborn: {sns.__version__}')\n",
    "print(f'matplotlib: {mpl.__version__}')"
   ]
  },
  {
   "cell_type": "markdown",
   "id": "2eb2a640-20e4-4ab4-8275-e68be1296f86",
   "metadata": {},
   "source": [
    "# Base de dados\n",
    "\n",
    "Os dados que serão utilizados neste trabalho são da UCI Machine Learning Repository, mais precisamente o German Credit Data, disponível em: \n",
    "\n",
    "> https://archive.ics.uci.edu/ml/datasets/Statlog+%28German+Credit+Data%29"
   ]
  },
  {
   "cell_type": "code",
   "execution_count": 4,
   "id": "ba97af97-a99d-40dd-aa83-7d0304116ad6",
   "metadata": {},
   "outputs": [],
   "source": [
    "credit_score = pd.read_csv('./dados/german_credit.csv', header=0)"
   ]
  },
  {
   "cell_type": "code",
   "execution_count": 6,
   "id": "402c2e92-6af1-4820-ab32-173aa9696bc4",
   "metadata": {},
   "outputs": [
    {
     "name": "stdout",
     "output_type": "stream",
     "text": [
      "<class 'pandas.core.frame.DataFrame'>\n",
      "RangeIndex: 1000 entries, 0 to 999\n",
      "Data columns (total 21 columns):\n",
      " #   Column                      Non-Null Count  Dtype \n",
      "---  ------                      --------------  ----- \n",
      " 0   default                     1000 non-null   int64 \n",
      " 1   account_check_status        1000 non-null   object\n",
      " 2   duration_in_month           1000 non-null   int64 \n",
      " 3   credit_history              1000 non-null   object\n",
      " 4   purpose                     1000 non-null   object\n",
      " 5   credit_amount               1000 non-null   int64 \n",
      " 6   savings                     1000 non-null   object\n",
      " 7   present_emp_since           1000 non-null   object\n",
      " 8   installment_as_income_perc  1000 non-null   int64 \n",
      " 9   personal_status_sex         1000 non-null   object\n",
      " 10  other_debtors               1000 non-null   object\n",
      " 11  present_res_since           1000 non-null   int64 \n",
      " 12  property                    1000 non-null   object\n",
      " 13  age                         1000 non-null   int64 \n",
      " 14  other_installment_plans     1000 non-null   object\n",
      " 15  housing                     1000 non-null   object\n",
      " 16  credits_this_bank           1000 non-null   int64 \n",
      " 17  job                         1000 non-null   object\n",
      " 18  people_under_maintenance    1000 non-null   int64 \n",
      " 19  telephone                   1000 non-null   object\n",
      " 20  foreign_worker              1000 non-null   object\n",
      "dtypes: int64(8), object(13)\n",
      "memory usage: 164.2+ KB\n"
     ]
    }
   ],
   "source": [
    "credit_score.info()"
   ]
  },
  {
   "cell_type": "markdown",
   "id": "d53f89d5-9f4d-4b1f-8ef2-21f221b4dd88",
   "metadata": {},
   "source": [
    "> Através das informações desse dataset podemos verificar que são 100 observações dividida oito variáveis do tipo `int` e treze variáveis do tipo `object`."
   ]
  },
  {
   "cell_type": "code",
   "execution_count": null,
   "id": "fcc87ea3-fcf3-46d0-aa76-ce99f9c1a65e",
   "metadata": {},
   "outputs": [],
   "source": []
  }
 ],
 "metadata": {
  "kernelspec": {
   "display_name": "Python 3",
   "language": "python",
   "name": "python3"
  },
  "language_info": {
   "codemirror_mode": {
    "name": "ipython",
    "version": 3
   },
   "file_extension": ".py",
   "mimetype": "text/x-python",
   "name": "python",
   "nbconvert_exporter": "python",
   "pygments_lexer": "ipython3",
   "version": "3.7.9"
  }
 },
 "nbformat": 4,
 "nbformat_minor": 5
}
