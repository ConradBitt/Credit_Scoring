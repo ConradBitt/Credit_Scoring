{
 "cells": [
  {
   "cell_type": "markdown",
   "id": "650e5cf7-8c8b-45e6-8b17-abd740011448",
   "metadata": {},
   "source": [
    "# Introdução\n",
    "\n",
    "Esse notebook tem objetivo de entender os princípios de estimações de pontuação de crédito bancário.  O crédito faz parte da vida de muitas pessoas mas para fornecer esse tipo de serviço é necessário entender os riscos envolvidos em emprestimos pessoais e consignados, cartões de credito, financiamento de imóveis e veículos, apesar de todos esses exemplo, pouco se fala sobre como funciona a tomada de decisão por trás do sistema de crédito. "
   ]
  },
  {
   "cell_type": "markdown",
   "id": "df70a065-1b62-45a8-8145-8deee448d78c",
   "metadata": {},
   "source": [
    "\n",
    "## Cadeia de crédito\n",
    "\n",
    "<img src='https://blog.assertivasolucoes.com.br/wp-content/uploads/2019/12/Ciclo-de-Cr%C3%A9dito.jpg'>\n",
    "\n",
    "Os pilares da cadeia de crédito consiste em ciclo de quatro etapas que fundamentam o funcionamento do sistema, eles são \n",
    "\n",
    "* Prospecção \n",
    "\n",
    "* Concessão \n",
    "\n",
    "* Gestão de Risco \n",
    "\n",
    "* Recuperação \n",
    "\n",
    "\n",
    "Neste notebook vou focar em quais métricas de avaliação são  utilizadas na etapa de **concessão**. \n",
    "\n",
    "Um ponto importante na cadeia de crédito são os grupos de clientes, eles se dividem em dois **poupadores** e **tomadores**. Os poupadores são clientes que reservam suas economias para extrair rendimentos no futuro e os tomadores são clientes que tomam emprestado uma quantia hoje para pagar no futuro. Quem faz a intermediação entre popuadores e tomadores são as instituições financeiras. (*Lembrando que apenas instituições podem fazer essa mediação, pessoas físicas emprestando valores monetarios a troco de juros pode caracterizar o crime de agiotagem.*)"
   ]
  },
  {
   "cell_type": "markdown",
   "id": "a7902a81-11d9-49a9-93ef-f36c1cafd287",
   "metadata": {},
   "source": [
    "## Pedido de crétido \n",
    "\n",
    "O pedido de credito se inicia com o **tomador** indo até uma **instituição financeira** e ela através de um **modelo de decisão** e este modelo irá dizer se o **tomador** terá um credito **aprovado** ou **recusado**.\n",
    "\n"
   ]
  },
  {
   "cell_type": "code",
   "execution_count": null,
   "id": "aab30173-56ef-4caa-90aa-4f72c5d05ef4",
   "metadata": {},
   "outputs": [],
   "source": []
  }
 ],
 "metadata": {
  "kernelspec": {
   "display_name": "Python 3",
   "language": "python",
   "name": "python3"
  },
  "language_info": {
   "codemirror_mode": {
    "name": "ipython",
    "version": 3
   },
   "file_extension": ".py",
   "mimetype": "text/x-python",
   "name": "python",
   "nbconvert_exporter": "python",
   "pygments_lexer": "ipython3",
   "version": "3.7.9"
  }
 },
 "nbformat": 4,
 "nbformat_minor": 5
}
